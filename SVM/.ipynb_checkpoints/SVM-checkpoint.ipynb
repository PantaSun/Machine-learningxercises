{
 "cells": [
  {
   "cell_type": "markdown",
   "metadata": {},
   "source": [
    "## SVM -- 支持向量机\n",
    "\n",
    "Support Vector Machine\n",
    "\n",
    "支持向量就是离超平面最近的那些点\n",
    "\n",
    "### 优缺点\n",
    "\n",
    "- 优点：泛化错误率低，计算开销不大，结果易解释。\n",
    "\n",
    "- 缺点：对参数调节和核函数的选择敏感，原始分类器不加修改只能适用于二分类问题。\n",
    "\n",
    "### SMO（Sequential Minimal Optimization）-- 序列最小优化\n",
    "\n",
    "- 目标：求出一系列alpha和b，通过这些alpha可以确定权重w，从而确定超平面\n",
    "\n",
    "- 工作原理：每次循环中选择两个alpha进行优化处理。一旦找到一堆合适的alpha，那么就增大其中一个同时减小另一个。\n",
    "\n",
    "### 简化版SMO\n",
    "\n",
    "> 首先在数据集上遍历每一个alpha，然后再剩下的alpha集合中随机选择另一个alpha，从而构建alpha对。\n",
    "\n",
    "#### 辅助函数"
   ]
  },
  {
   "cell_type": "code",
   "execution_count": null,
   "metadata": {
    "collapsed": true
   },
   "outputs": [],
   "source": [
    "def loadDataSet(filename):  \n",
    "    \n",
    "    \n"
   ]
  }
 ],
 "metadata": {
  "kernelspec": {
   "display_name": "Python 3",
   "language": "python",
   "name": "python3"
  },
  "language_info": {
   "codemirror_mode": {
    "name": "ipython",
    "version": 3
   },
   "file_extension": ".py",
   "mimetype": "text/x-python",
   "name": "python",
   "nbconvert_exporter": "python",
   "pygments_lexer": "ipython3",
   "version": "3.5.4rc1"
  }
 },
 "nbformat": 4,
 "nbformat_minor": 2
}
