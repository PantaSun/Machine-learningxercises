{
 "cells": [
  {
   "cell_type": "markdown",
   "metadata": {},
   "source": [
    "## SVM -- 支持向量机\n",
    "\n",
    "Support Vector Machine\n",
    "\n",
    "支持向量就是离超平面最近的那些点\n",
    "\n",
    "### 优缺点\n",
    "\n",
    "- 优点：泛化错误率低，计算开销不大，结果易解释。\n",
    "\n",
    "- 缺点：对参数调节和核函数的选择敏感，原始分类器不加修改只能适用于二分类问题。\n",
    "\n",
    "### SMO（Sequential Minimal Optimization）-- 序列最小优化\n",
    "\n",
    "- 目标：求出一系列alpha和b，通过这些alpha可以确定权重w，从而确定超平面\n",
    "\n",
    "- 工作原理：每次循环中选择两个alpha进行优化处理。一旦找到一堆合适的alpha，那么就增大其中一个同时减小另一个。\n",
    "\n",
    "### 简化版SMO\n",
    "\n",
    "> 首先在数据集上遍历每一个alpha，然后再剩下的alpha集合中随机选择另一个alpha，从而构建alpha对。\n",
    "\n",
    "#### 简化版SMO 伪码\n",
    "```\n",
    "当迭代次数小于最大迭代次数（外循环）：\n",
    "    对数据集中的每个数据向量（内循环）：\n",
    "        如果该数据向量可以被优化：\n",
    "            随机选择另一个数据向量\n",
    "            同时优化这两个数据向量\n",
    "            如果两个数据向量都不能被优化，退出内循环\n",
    "    如果所有数据向量都没被优化，增加迭代次数，继续下一次外循环\n",
    "```\n",
    "#### 辅助函数"
   ]
  },
  {
   "cell_type": "code",
   "execution_count": 7,
   "metadata": {
    "collapsed": true
   },
   "outputs": [],
   "source": [
    "import random\n",
    "import numpy as np"
   ]
  },
  {
   "cell_type": "code",
   "execution_count": 8,
   "metadata": {
    "collapsed": true
   },
   "outputs": [],
   "source": [
    "# 准备数据：打开文件逐行解析文件，并将样本的属性值和标签值分别存储到list中\n",
    "def loadDataSet(filename):  \n",
    "    dataMat = []\n",
    "    lableMat = []\n",
    "    fr = open(filename)\n",
    "    for line in fr:\n",
    "        lineArr = line.strip().split('\\t')\n",
    "        dataMat.append([float(lineArr[0]), float(lineArr[1])])\n",
    "        lableMat.append(float(lineArr[2]))\n",
    "    return dataMat, lableMat\n",
    "\n",
    "# 构造alpha对\n",
    "def selectJrand(i, m):\n",
    "    j = i\n",
    "    while j==i:\n",
    "        j = int(random.uniform(0, m))\n",
    "    return j\n",
    "        \n",
    "# 调整大于H或小于L的alpha\n",
    "def clipAlpha(aj, H, L):\n",
    "    if aj > H:\n",
    "        aj = H\n",
    "    if L > aj:\n",
    "        aj = L\n",
    "    return aj\n"
   ]
  },
  {
   "cell_type": "code",
   "execution_count": 9,
   "metadata": {
    "collapsed": false
   },
   "outputs": [
    {
     "data": {
      "text/plain": [
       "[-1.0, -1.0, 1.0, -1.0, 1.0, 1.0, 1.0, -1.0, -1.0, -1.0]"
      ]
     },
     "execution_count": 9,
     "metadata": {},
     "output_type": "execute_result"
    }
   ],
   "source": [
    "dataMat, labelMat = loadDataSet(\"testSet.txt\")\n",
    "labelMat[:10]"
   ]
  },
  {
   "cell_type": "code",
   "execution_count": 10,
   "metadata": {
    "collapsed": false
   },
   "outputs": [
    {
     "ename": "SyntaxError",
     "evalue": "unexpected EOF while parsing (<ipython-input-10-8b9d0752014c>, line 2)",
     "output_type": "error",
     "traceback": [
      "\u001b[0;36m  File \u001b[0;32m\"<ipython-input-10-8b9d0752014c>\"\u001b[0;36m, line \u001b[0;32m2\u001b[0m\n\u001b[0;31m    \u001b[0m\n\u001b[0m    ^\u001b[0m\n\u001b[0;31mSyntaxError\u001b[0m\u001b[0;31m:\u001b[0m unexpected EOF while parsing\n"
     ]
    }
   ],
   "source": [
    "def smoSimple(dataMatIn, classLabels, C, toler, maxIter):\n",
    "    dataMatrix = np.mat(dataMatIn)\n",
    "    labelMat = np.mat(classLabels).transpose()\n",
    "    b = 0\n",
    "    m, n = np.shape(dataMatrix)\n",
    "    alphas = np.mat(np.zeros((m, 1)))\n",
    "    iter = 0\n",
    "    while iter < maxIter:\n",
    "        alphaPairsChanged = 0\n",
    "        for i in range(m):\n",
    "            fXi = \n",
    "    "
   ]
  },
  {
   "cell_type": "code",
   "execution_count": null,
   "metadata": {
    "collapsed": true
   },
   "outputs": [],
   "source": []
  },
  {
   "cell_type": "code",
   "execution_count": null,
   "metadata": {
    "collapsed": true
   },
   "outputs": [],
   "source": []
  },
  {
   "cell_type": "code",
   "execution_count": null,
   "metadata": {
    "collapsed": true
   },
   "outputs": [],
   "source": []
  },
  {
   "cell_type": "code",
   "execution_count": null,
   "metadata": {
    "collapsed": true
   },
   "outputs": [],
   "source": []
  }
 ],
 "metadata": {
  "kernelspec": {
   "display_name": "Python 3",
   "language": "python",
   "name": "python3"
  },
  "language_info": {
   "codemirror_mode": {
    "name": "ipython",
    "version": 3
   },
   "file_extension": ".py",
   "mimetype": "text/x-python",
   "name": "python",
   "nbconvert_exporter": "python",
   "pygments_lexer": "ipython3",
   "version": "3.5.4rc1"
  }
 },
 "nbformat": 4,
 "nbformat_minor": 2
}
