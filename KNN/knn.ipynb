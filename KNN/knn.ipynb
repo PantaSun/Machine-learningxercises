{
 "cells": [
  {
   "cell_type": "markdown",
   "metadata": {},
   "source": [
    "## knn\n",
    "### 0. 简介\n",
    "#### knn算法即k-近邻算法\n",
    "> k-近邻算法 (k-nearest neighbor) 是一种基本分类与回归方法。  ----李航《统计学方法》\n",
    "\n",
    "#### 思想\n",
    "在给定的训练数据集中寻找与新输入的实例最近邻的 k 个实例，统计这 k 个实例所属的分类，则拥有实例个数最多的分类就看做是该新输入实例的分类。k-nn算法没有显示的学习过程，即不需要先训练算法。\n",
    "#### 三要素\n",
    "##### k值的选择\n",
    "##### 距离度量\n",
    "有$x_i, x_j$为 n 维向量，即$x_i, x_j \\in R^n$， 则 $x_i, x_j$ 之间的距离 $L_p$ 定义为：\n",
    "$$L_p(x_i, x_j)  = (\\sum^{n}_{l=1} | x_i^{(l)} - x_j^{(l)}|)^{1/p} $$ \n",
    "- 当 p = 1 时，该距离成为[曼哈顿距离](https://zh.wikipedia.org/wiki/%E6%9B%BC%E5%93%88%E9%A0%93%E8%B7%9D%E9%9B%A2)。\n",
    "- 当 p = 2 时，该距离称为[欧氏距离](https://zh.wikipedia.org/wiki/%E6%AC%A7%E5%87%A0%E9%87%8C%E5%BE%97%E8%B7%9D%E7%A6%BB)。\n",
    "- 当 p = 无穷大 时， 该距离就是各个坐标距离的最大值。\n",
    "##### 分类决策条件\n",
    "\n",
    "### 1. 算法\n",
    "#### 输入：\n",
    "① 训练数据集 $ T = \\{x_i, y_i\\} $ ,i=1,2,...,N，$x_i$ 为实例的特征向量，$y_i$ 为实例的类别。\n",
    "\n",
    "② 实例特征向量 x\n",
    "#### 输出：实例 x 的类别\n",
    "\n",
    "① 根据距离计算方法，如欧氏距离，计算出里 x 距离最近的 k 个点。\n",
    "\n",
    "② 根据分类决策方法，如多数表决法，最总决定 x 的分类 y 。\n",
    "                                  \n",
    "\n"
   ]
  },
  {
   "cell_type": "code",
   "execution_count": 1,
   "metadata": {
    "collapsed": true
   },
   "outputs": [],
   "source": [
    "# 准备数据\n",
    "from numpy import *\n",
    "import operator\n",
    "\n",
    "def createDatSet():\n",
    "    group = array([\n",
    "        [1.0, 1.1],\n",
    "        [1.0, 1.0],\n",
    "        [0.0, 0.0],\n",
    "        [0.0, 0.1]\n",
    "    ])\n",
    "    labels = ['A', 'A', 'B','B']\n",
    "    return group, labels"
   ]
  },
  {
   "cell_type": "code",
   "execution_count": 27,
   "metadata": {
    "collapsed": true
   },
   "outputs": [],
   "source": [
    "# 我的实现方法\n",
    "def classify00(inX, dataSet, labels, K):\n",
    "    distance = []  # 存放距离和标签\n",
    "    for i in range(len(dataSet)):\n",
    "        sum = 0\n",
    "        for j in range(len(inX)):\n",
    "            sum += (inX[j] - dataSet[i][j])**2\n",
    "        distance.append([sum, labels[i]])\n",
    "    sortedDistance = sorted(distance, key=operator.itemgetter(0))\n",
    "    classCount = {}\n",
    "    for k in range(K):\n",
    "        label = sortedDistance[k][1]\n",
    "        classCount[label] = classCount.get(label, 0) + 1\n",
    "    return sorted(classCount.items(), key=operator.itemgetter(1), reverse=True)[0][0]\n",
    "\n",
    "# 书上的实现方法，使用了numpy中的一些函数\n",
    "def classify01(inX, dataSet, labels, K):\n",
    "    dataSetSize = dataSet.shape[0]\n",
    "    diffMat = tile(inX, (dataSetSize, 1)) - dataSet  #这里用到了numpy中的tile函数\n",
    "    sqDiffMat = diffMat ** 2                         #将矩阵中的每一个元素平方\n",
    "    sqDistances = sqDiffMat.sum(axis=1)              #将每一行求和\n",
    "    distances = sqDistances ** 0.5                   #开方\n",
    "\n",
    "    sortedDistanceIndicies = distances.argsort()     #排序，返回原数组按值从小到大排列的索引值\n",
    "    classCount = {}                                  #标签统计\n",
    "    for i in range(K):\n",
    "        label = labels[sortedDistanceIndicies[i]]\n",
    "        classCount[label] = classCount.get(label, 0) + 1\n",
    "    sortedClassCount = sorted(classCount.items(), key=operator.itemgetter(1), reverse=True)\n",
    "    return sortedClassCount[0][0]\n",
    "     "
   ]
  },
  {
   "cell_type": "code",
   "execution_count": 22,
   "metadata": {},
   "outputs": [
    {
     "data": {
      "text/plain": [
       "array([[1. , 1.1],\n",
       "       [1. , 1. ],\n",
       "       [0. , 0. ],\n",
       "       [0. , 0.1]])"
      ]
     },
     "execution_count": 22,
     "metadata": {},
     "output_type": "execute_result"
    }
   ],
   "source": [
    "dataSet, labels = createDatSet()\n",
    "dataSet"
   ]
  },
  {
   "cell_type": "code",
   "execution_count": 16,
   "metadata": {},
   "outputs": [
    {
     "data": {
      "text/plain": [
       "(array([1, 0, 3, 2], dtype=int64),\n",
       " array([0.1       , 0.        , 1.41421356, 1.3453624 ]),\n",
       " array([[ 0. , -0.1],\n",
       "        [ 0. ,  0. ],\n",
       "        [ 1. ,  1. ],\n",
       "        [ 1. ,  0.9]]))"
      ]
     },
     "execution_count": 16,
     "metadata": {},
     "output_type": "execute_result"
    }
   ],
   "source": [
    "dataSetSize = dataSet.shape[0]\n",
    "diffMat = tile([1,1], (dataSetSize, 1)) - dataSet  #这里用到了numpy中的tile函数\n",
    "sqDiffMat = diffMat ** 2                         #将矩阵中的每一个元素平方\n",
    "sqDistances = sqDiffMat.sum(axis=1)              #将每一行求和\n",
    "distances = sqDistances ** 0.5                   #开方\n",
    "sortedDistanceIndicies = distances.argsort()\n",
    "sortedDistanceIndicies, distances, diffMat"
   ]
  },
  {
   "cell_type": "code",
   "execution_count": 15,
   "metadata": {},
   "outputs": [
    {
     "name": "stdout",
     "output_type": "stream",
     "text": [
      "1\n",
      "0\n",
      "3\n"
     ]
    }
   ],
   "source": [
    "for i in range(3):\n",
    "    print(sortedDistanceIndicies[i])"
   ]
  },
  {
   "cell_type": "code",
   "execution_count": 19,
   "metadata": {},
   "outputs": [
    {
     "data": {
      "text/plain": [
       "['A', 'A', 'B', 'B']"
      ]
     },
     "execution_count": 19,
     "metadata": {},
     "output_type": "execute_result"
    }
   ],
   "source": [
    "labels"
   ]
  },
  {
   "cell_type": "code",
   "execution_count": 29,
   "metadata": {},
   "outputs": [
    {
     "data": {
      "text/plain": [
       "'B'"
      ]
     },
     "execution_count": 29,
     "metadata": {},
     "output_type": "execute_result"
    }
   ],
   "source": [
    "cla= classify00([0, 0], dataSet, labels, 3)\n",
    "cla"
   ]
  },
  {
   "cell_type": "code",
   "execution_count": 30,
   "metadata": {},
   "outputs": [
    {
     "data": {
      "text/plain": [
       "'B'"
      ]
     },
     "execution_count": 30,
     "metadata": {},
     "output_type": "execute_result"
    }
   ],
   "source": [
    "cla= classify01([0, 0], dataSet, labels, 3)\n",
    "cla"
   ]
  },
  {
   "cell_type": "markdown",
   "metadata": {
    "collapsed": true
   },
   "source": [
    "### 2.示例：使用K-近邻算法改进网站的配对效果\n",
    "#### 2.1 准备数据\n",
    "dataSet中的每个样本有三个特征值，对应的分别是：玩视频游戏所耗时间百分比、每年获飞行常客里程数和每周消费的冰激凌公升数。\n",
    "PS：这个数据时在线约会网站根据特征值给你推荐相应约会对象\n",
    "共有三种标签：数据中用1、2、3代替"
   ]
  },
  {
   "cell_type": "code",
   "execution_count": 88,
   "metadata": {
    "collapsed": true
   },
   "outputs": [],
   "source": [
    "# 准备数据\n",
    "# 将文本转换为numpy的解析程序\n",
    "def file2matrix(filename):\n",
    "    fr = open(filename)\n",
    "    arrayLines = fr.readlines()\n",
    "    numberOfLines = len(arrayLines)\n",
    "    returnMat = zeros((numberOfLines, 3))\n",
    "    classLabelVector = []\n",
    "    index = 0\n",
    "    \n",
    "    for line in arrayLines:\n",
    "        line = line.strip()\n",
    "        listFormLine = line.split('\\t')\n",
    "        returnMat[index,:] = listFormLine[0:3]\n",
    "        classLabelVector.append(int(listFormLine[-1]))\n",
    "        index += 1\n",
    "    return returnMat, classLabelVector\n",
    "        \n",
    "        "
   ]
  },
  {
   "cell_type": "code",
   "execution_count": 94,
   "metadata": {},
   "outputs": [
    {
     "data": {
      "text/plain": [
       "array([[4.0920000e+04, 8.3269760e+00, 9.5395200e-01],\n",
       "       [1.4488000e+04, 7.1534690e+00, 1.6739040e+00],\n",
       "       [2.6052000e+04, 1.4418710e+00, 8.0512400e-01],\n",
       "       ...,\n",
       "       [2.6575000e+04, 1.0650102e+01, 8.6662700e-01],\n",
       "       [4.8111000e+04, 9.1345280e+00, 7.2804500e-01],\n",
       "       [4.3757000e+04, 7.8826010e+00, 1.3324460e+00]])"
      ]
     },
     "execution_count": 94,
     "metadata": {},
     "output_type": "execute_result"
    }
   ],
   "source": [
    "dataSet, labels = file2matrix('datingTestSet2.txt')\n",
    "dataSet"
   ]
  },
  {
   "cell_type": "markdown",
   "metadata": {},
   "source": [
    "#### 2.2 分析数据：先把数据画出来"
   ]
  },
  {
   "cell_type": "code",
   "execution_count": 90,
   "metadata": {},
   "outputs": [
    {
     "data": {
      "image/png": "[encoded data removed]",
      "text/plain": [
       "<matplotlib.figure.Figure at 0x115341cdc88>"
      ]
     },
     "metadata": {},
     "output_type": "display_data"
    }
   ],
   "source": [
    "import matplotlib\n",
    "import matplotlib.pyplot as plt \n",
    "fig = plt.figure()\n",
    "a1 = fig.add_subplot(211)\n",
    "a1.scatter(dataSet[:,0], dataSet[:,1], 15.0*array(labels), 15.0*array(labels))\n",
    "a2 = fig.add_subplot(212)\n",
    "a2.scatter(dataSet[:,1], dataSet[:,2], 15.0*array(labels), 15.0*array(labels))\n",
    "plt.show()"
   ]
  },
  {
   "cell_type": "markdown",
   "metadata": {},
   "source": [
    "数据中一共三列数据，可以看出第一列和第二列数据的区分度很好，第二列和第三列就很模糊"
   ]
  },
  {
   "cell_type": "markdown",
   "metadata": {},
   "source": [
    "#### 2.3 归一化数据\n",
    "因为有些特征数据之间的差值比较大，有些特征数据之间的差值较小，在计算距离时差值较大的特征就会在距离中起到主导地位。我们应该消除这种影响，于是采用归一化，使用 $newVals = (oldVals - minVals) / (maxVals - minVals)$ 将所有的特征值都变换到0-1之间，这样对于每个特征来说都平等的对距离计算起作用。"
   ]
  },
  {
   "cell_type": "code",
   "execution_count": 91,
   "metadata": {
    "collapsed": true
   },
   "outputs": [],
   "source": [
    "def autoNorm(dataSet):\n",
    "    minVals = dataSet.min(0)\n",
    "    maxVals = dataSet.max(0)\n",
    "    ranges = maxVals - minVals\n",
    "    normDataSet = zeros(dataSet.shape)\n",
    "    m = dataSet.shape[0]\n",
    "    normDataSet = (dataSet - tile(minVals, (m, 1))) / tile(ranges, (m, 1))\n",
    "    return normDataSet, ranges, minVals"
   ]
  },
  {
   "cell_type": "code",
   "execution_count": 92,
   "metadata": {},
   "outputs": [],
   "source": [
    "n, r, mv = autoNorm(dataSet)"
   ]
  },
  {
   "cell_type": "code",
   "execution_count": 93,
   "metadata": {},
   "outputs": [
    {
     "data": {
      "text/plain": [
       "array([[0.44832535, 0.39805139, 0.56233353],\n",
       "       [0.15873259, 0.34195467, 0.98724416],\n",
       "       [0.28542943, 0.06892523, 0.47449629],\n",
       "       ...,\n",
       "       [0.29115949, 0.50910294, 0.51079493],\n",
       "       [0.52711097, 0.43665451, 0.4290048 ],\n",
       "       [0.47940793, 0.3768091 , 0.78571804]])"
      ]
     },
     "execution_count": 93,
     "metadata": {},
     "output_type": "execute_result"
    }
   ],
   "source": [
    "n"
   ]
  },
  {
   "cell_type": "markdown",
   "metadata": {},
   "source": [
    "#### 2.4 测试算法"
   ]
  },
  {
   "cell_type": "code",
   "execution_count": 99,
   "metadata": {},
   "outputs": [],
   "source": [
    "def datingClassTest():\n",
    "    hoRatio = 0.1\n",
    "    datingDataMat, datingLabels = file2matrix(\"datingTestSet2.txt\")\n",
    "    normData, ranges, minVals = autoNorm(datingDataMat)\n",
    "    m = normData.shape[0]\n",
    "    numTestVecs = int(m * hoRatio)\n",
    "    errorCount = 0\n",
    "    for i in range(numTestVecs):\n",
    "        classifyResult = classify00(normData[i, :], normData[numTestVecs:m, :], datingLabels[numTestVecs:m], 5)\n",
    "        if classifyResult != datingLabels[i]:\n",
    "            errorCount += 1\n",
    "        print(\"the classifier came back with: {cr}, the real answer is: {ra}. \".format(cr=classifyResult, ra=datingLabels[i]))\n",
    "    print(\"the total error rate is: {er}\".format(er=(errorCount / float(numTestVecs))))"
   ]
  },
  {
   "cell_type": "code",
   "execution_count": 100,
   "metadata": {},
   "outputs": [
    {
     "name": "stdout",
     "output_type": "stream",
     "text": [
      "the classifier came back with: 3, the real answer is: 3. \n",
      "the classifier came back with: 2, the real answer is: 2. \n",
      "the classifier came back with: 1, the real answer is: 1. \n",
      "the classifier came back with: 1, the real answer is: 1. \n",
      "the classifier came back with: 1, the real answer is: 1. \n",
      "the classifier came back with: 1, the real answer is: 1. \n",
      "the classifier came back with: 3, the real answer is: 3. \n",
      "the classifier came back with: 3, the real answer is: 3. \n",
      "the classifier came back with: 1, the real answer is: 1. \n",
      "the classifier came back with: 3, the real answer is: 3. \n",
      "the classifier came back with: 1, the real answer is: 1. \n",
      "the classifier came back with: 1, the real answer is: 1. \n",
      "the classifier came back with: 2, the real answer is: 2. \n",
      "the classifier came back with: 1, the real answer is: 1. \n",
      "the classifier came back with: 1, the real answer is: 1. \n",
      "the classifier came back with: 1, the real answer is: 1. \n",
      "the classifier came back with: 1, the real answer is: 1. \n",
      "the classifier came back with: 1, the real answer is: 1. \n",
      "the classifier came back with: 2, the real answer is: 2. \n",
      "the classifier came back with: 3, the real answer is: 3. \n",
      "the classifier came back with: 2, the real answer is: 2. \n",
      "the classifier came back with: 1, the real answer is: 1. \n",
      "the classifier came back with: 3, the real answer is: 2. \n",
      "the classifier came back with: 3, the real answer is: 3. \n",
      "the classifier came back with: 2, the real answer is: 2. \n",
      "the classifier came back with: 3, the real answer is: 3. \n",
      "the classifier came back with: 2, the real answer is: 2. \n",
      "the classifier came back with: 3, the real answer is: 3. \n",
      "the classifier came back with: 2, the real answer is: 2. \n",
      "the classifier came back with: 1, the real answer is: 1. \n",
      "the classifier came back with: 3, the real answer is: 3. \n",
      "the classifier came back with: 1, the real answer is: 1. \n",
      "the classifier came back with: 2, the real answer is: 3. \n",
      "the classifier came back with: 1, the real answer is: 1. \n",
      "the classifier came back with: 2, the real answer is: 2. \n",
      "the classifier came back with: 1, the real answer is: 1. \n",
      "the classifier came back with: 1, the real answer is: 1. \n",
      "the classifier came back with: 2, the real answer is: 2. \n",
      "the classifier came back with: 3, the real answer is: 3. \n",
      "the classifier came back with: 3, the real answer is: 3. \n",
      "the classifier came back with: 1, the real answer is: 1. \n",
      "the classifier came back with: 2, the real answer is: 2. \n",
      "the classifier came back with: 3, the real answer is: 3. \n",
      "the classifier came back with: 3, the real answer is: 3. \n",
      "the classifier came back with: 3, the real answer is: 3. \n",
      "the classifier came back with: 1, the real answer is: 1. \n",
      "the classifier came back with: 1, the real answer is: 1. \n",
      "the classifier came back with: 1, the real answer is: 1. \n",
      "the classifier came back with: 1, the real answer is: 1. \n",
      "the classifier came back with: 2, the real answer is: 2. \n",
      "the classifier came back with: 2, the real answer is: 2. \n",
      "the classifier came back with: 1, the real answer is: 1. \n",
      "the classifier came back with: 3, the real answer is: 3. \n",
      "the classifier came back with: 2, the real answer is: 2. \n",
      "the classifier came back with: 2, the real answer is: 2. \n",
      "the classifier came back with: 2, the real answer is: 2. \n",
      "the classifier came back with: 2, the real answer is: 2. \n",
      "the classifier came back with: 3, the real answer is: 3. \n",
      "the classifier came back with: 1, the real answer is: 1. \n",
      "the classifier came back with: 2, the real answer is: 2. \n",
      "the classifier came back with: 1, the real answer is: 1. \n",
      "the classifier came back with: 2, the real answer is: 2. \n",
      "the classifier came back with: 2, the real answer is: 2. \n",
      "the classifier came back with: 2, the real answer is: 2. \n",
      "the classifier came back with: 2, the real answer is: 2. \n",
      "the classifier came back with: 2, the real answer is: 2. \n",
      "the classifier came back with: 3, the real answer is: 3. \n",
      "the classifier came back with: 2, the real answer is: 2. \n",
      "the classifier came back with: 3, the real answer is: 3. \n",
      "the classifier came back with: 1, the real answer is: 1. \n",
      "the classifier came back with: 2, the real answer is: 2. \n",
      "the classifier came back with: 3, the real answer is: 3. \n",
      "the classifier came back with: 2, the real answer is: 2. \n",
      "the classifier came back with: 2, the real answer is: 2. \n",
      "the classifier came back with: 3, the real answer is: 1. \n",
      "the classifier came back with: 3, the real answer is: 3. \n",
      "the classifier came back with: 1, the real answer is: 1. \n",
      "the classifier came back with: 1, the real answer is: 1. \n",
      "the classifier came back with: 3, the real answer is: 3. \n",
      "the classifier came back with: 3, the real answer is: 3. \n",
      "the classifier came back with: 1, the real answer is: 1. \n",
      "the classifier came back with: 2, the real answer is: 2. \n",
      "the classifier came back with: 3, the real answer is: 3. \n",
      "the classifier came back with: 1, the real answer is: 1. \n",
      "the classifier came back with: 3, the real answer is: 3. \n",
      "the classifier came back with: 1, the real answer is: 1. \n",
      "the classifier came back with: 2, the real answer is: 2. \n",
      "the classifier came back with: 2, the real answer is: 2. \n",
      "the classifier came back with: 1, the real answer is: 1. \n",
      "the classifier came back with: 1, the real answer is: 1. \n",
      "the classifier came back with: 3, the real answer is: 3. \n",
      "the classifier came back with: 2, the real answer is: 3. \n",
      "the classifier came back with: 1, the real answer is: 1. \n",
      "the classifier came back with: 2, the real answer is: 2. \n",
      "the classifier came back with: 1, the real answer is: 1. \n",
      "the classifier came back with: 3, the real answer is: 3. \n",
      "the classifier came back with: 3, the real answer is: 3. \n",
      "the classifier came back with: 2, the real answer is: 2. \n",
      "the classifier came back with: 2, the real answer is: 1. \n",
      "the classifier came back with: 1, the real answer is: 1. \n",
      "the total error rate is: 0.05\n"
     ]
    }
   ],
   "source": [
    "datingClassTest()"
   ]
  },
  {
   "cell_type": "markdown",
   "metadata": {},
   "source": [
    "#### 2.5 使用算法\n",
    "约会网站预测函数\n"
   ]
  },
  {
   "cell_type": "code",
   "execution_count": 101,
   "metadata": {
    "collapsed": true
   },
   "outputs": [],
   "source": [
    "def classifyPerson():\n",
    "    resultList = ['not at all', 'in small doses', 'in large doses']\n",
    "    percentTats = float(input(\"percentage of time spent playing video games?\"))\n",
    "    ffMiles = float(input(\"frequent flier miles earned per year?\"))\n",
    "    iceCream = float(input(\"liters of ice cream consumed per year?\"))\n",
    "    datingDataMat, datingLabels = file2matrix(\"datingTestSet2.txt\")\n",
    "    normMat, ranges, minVals = autoNorm(datingDataMat)\n",
    "    inArr = array([percentTats, ffMiles, iceCream])\n",
    "    classifierResult = classify01((inArr-minVals)/ranges, normMat, datingLabels, 3)\n",
    "    print(\"you will probably like this person: {cr}\".format(cr=resultList[classifierResult-1]))"
   ]
  },
  {
   "cell_type": "code",
   "execution_count": 102,
   "metadata": {},
   "outputs": [
    {
     "name": "stdout",
     "output_type": "stream",
     "text": [
      "percentage of time spent playing video games?10\n",
      "frequent flier miles earned per year?10000\n",
      "liters of ice cream consumed per year?0.5\n",
      "you will probably like this person: not at all\n"
     ]
    }
   ],
   "source": [
    "classifyPerson()"
   ]
  },
  {
   "cell_type": "markdown",
   "metadata": {},
   "source": [
    "### 3 将KNN应用于手写数字识别\n",
    "#### 3.1 准备数据\n",
    "将图像转换为测试向量"
   ]
  },
  {
   "cell_type": "code",
   "execution_count": null,
   "metadata": {
    "collapsed": true
   },
   "outputs": [],
   "source": []
  }
 ],
 "metadata": {
  "kernelspec": {
   "display_name": "Python [default]",
   "language": "python",
   "name": "python3"
  },
  "language_info": {
   "codemirror_mode": {
    "name": "ipython",
    "version": 3
   },
   "file_extension": ".py",
   "mimetype": "text/x-python",
   "name": "python",
   "nbconvert_exporter": "python",
   "pygments_lexer": "ipython3",
   "version": "3.6.2"
  }
 },
 "nbformat": 4,
 "nbformat_minor": 2
}
