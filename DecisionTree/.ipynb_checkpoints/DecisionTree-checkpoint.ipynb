{
 "cells": [
  {
   "cell_type": "markdown",
   "metadata": {},
   "source": [
    "## 决策树实践\n",
    "\n",
    "### 简介\n",
    ">机器学习中，决策树是一个预测模型；他代表的是对象属性与对象值之间的一种映射关系。树中每个节点表示某个对象，而每个分叉路径则代表某个可能的属性值，而每个叶节点则对应从根节点到该叶节点所经历的路径所表示的对象的值。决策树仅有单一输出，若欲有复数输出，可以建立独立的决策树以处理不同输出。 数据挖掘中决策树是一种经常要用到的技术，可以用于分析数据，同样也可以用来作预测。\n",
    "从数据产生决策树的机器学习技术叫做决策树学习,通俗说就是决策树。 ----摘自[维基百科](https://zh.wikipedia.org/wiki/%E5%86%B3%E7%AD%96%E6%A0%91)\n",
    "\n",
    "### 优缺点及适用数据类型\n",
    "> \n",
    "  - 优点：计算复杂度不高，输出结果容易理解，对中间值的缺失不敏感，可以处理不相关特征数据。\n",
    "  - 缺点：可能会产生过度匹配\n",
    "  - 适用数据类型：数值型和标称型\n",
    "\n",
    "### 决策树构造\n",
    "  \n",
    "  决策树的主要思想就是对数据集按照一定的规则进行划分，其大致的算法流程伪码如下：\n",
    "  \n",
    "```\n",
    "  def createBranch():\n",
    "      if 数据集中每一个样本都属于同一分类：\n",
    "          return 类别标签\n",
    "      else:\n",
    "          找到最先用来划分数据集的特征\n",
    "          划分数据集\n",
    "          创建分支节点\n",
    "              for 每个数据子集：\n",
    "                  调用createBranch()\n",
    "          return 分支节点\n",
    "       \n",
    "``` \n",
    "  因此在构造决策树时最主要的问题就是找到当前数据集中用来最先进行划分数据集的特征，也就是说在将数据集分类时，我们应该先根据哪个特征来进行划分，这里可以将这个特征成为最优特征。关于最优特征目前有很多算法。\n",
    ">常用决策树算法有ID3，C4.5和CART。它们都是采用贪心（即非回溯的）方法，自顶向下递归的分治方法构造。这几个算法选择属性划分的方法各不相同，ID3使用的是信息增益，C4.5使用的是信息增益率，而CART使用的是Gini基尼指数。\n",
    "\n",
    "### 常用算法及Python实现\n",
    "*下面只对ID3算法进行代码实现。*\n",
    "#### ID3算法\n",
    ">ID3算法（Iterative Dichotomiser 3 迭代二叉树3代）是一个由Ross Quinlan发明的用于决策树的算法。\n",
    "这个算法是建立在奥卡姆剃刀的基础上：越是小型的决策树越优于大的决策树（简单理论）。尽管如此，该算法也不是总是生成最小的树形结构。而是一个启发式算法。奥卡姆剃刀阐述了一个信息熵的概念：$$I_E(i)=-\\sum_{j=1}^{m}f(i,j)log_2f(i,j))$$\n",
    "\n",
    "\n",
    ">熵被用来衡量一个随机变量出现的期望值。熵越大，一个变量的不确定性就越大（也就是可取的值很多），把它搞清楚所需要的信息量也就越大，熵是整个系统的平均消息量。 信息熵是信息论中用于度量信息量的一个概念。一个系统越是有序，信息熵就越低；反之，一个系统越是混乱，信息熵就越高。所以，信息熵也可以说是系统有序化程度的一个度量。\n",
    "\n",
    "##### 熵（Entropy）的计算公式\n",
    "\n",
    ">熵定义为信息的期望值。先看看信息的定义：\n",
    "\n",
    ">$$l(x_i)=−log_2p(x_i)$$\n",
    "\n",
    ">其中，$p(x_i)$是选择该分类的概率。对D中的元组所有分类所有可能值的信息期望，即熵，计算公式如下：\n",
    "\n",
    ">$$Entropy=H(D)=E(I(D))=−\\sum_{i}^{n}p_ilog_2(p_i)$$ $p_i$是D中任意元组属于类$C_i$非零概率。\n",
    "熵越大，说明系统越混乱，携带的信息就越少。熵越小，说明系统越有序，携带的信息就越多。信息的作用就是在于消除不确定性。\n",
    "\n",
    ">ID3划分特征使用的就是信息增益IG。一个属性的信息增益越大，表明属性对样本的熵减少的能力就更强，该属性使得数据所属类别的不确定性变为确定性的能力越强。信息增益在统计学中称为互信息，互信息是条件概率与后验概率的比值，化简之后就可以得到信息增益。所以说互信息其实就是信息增益。计算方法【互信息=熵-条件熵】。熵描述的是不确定性。熵越大，不确定性就越大，条件熵H（B|A）描述的是在A给定的条件下B的不确定性，如果条件熵越小，表示不确定性就越小，那么B就越容易确定结果。所以使用熵减去条件熵，就得到了信息增益，他描述的不确定性的降低程度，可以用来度量两个变量的相关性。比如，在给定一个变量的条件下，另一个变量它的不确定性能够降低多少，如果不确定性降低得越多，那么它的确定性就越大，就越容易区分，两者就越相关。注：期望信息越小，分区的纯度越高。\n",
    "\n",
    "##### 信息增益计算\n",
    "\n",
    ">首先计算特征A对数据集D的经验条件熵H(D|A),在数学上就是条件概率分布（Condition Probability）.\n",
    "\n",
    ">$$H(D|A)=\\sum_{j}\\cfrac{|D_j|}{|D|}×H(D_j)$$，项$\\cfrac{|D_j|}{|D|}$充当第j个分区的权重\n",
    "引入条件熵，在信息论中主要是为了消除结果的不确定性。然后计算信息增益\n",
    "\n",
    ">$$Gain(A)=H(D)−H(D|A)$$\n",
    "其中，Gain(A)即为所求的信息增益。\n",
    "\n",
    "##### 代码实现\n",
    "###### 创建产生测试数据的方法\n",
    "测试数据如下表“海洋生物数据”所示，为了方便处理将两个特征的“是”和“否”分别用“1”和“0”代替，分类标签的“是”和“否”分别用“yes”和“no”代替。\n",
    "\n",
    "|序号|不浮出水面是否可以生存|是否有脚蹼|属于鱼类|\n",
    "|:-:|:-:|:-:|:-:|:-:|\n",
    "|1|是|是|是|\n",
    "|2|是|是|是|\n",
    "|3|是|否|否|\n",
    "|4|否|是|否|\n",
    "|5|否|是|否|"
   ]
  },
  {
   "cell_type": "code",
   "execution_count": 66,
   "metadata": {},
   "outputs": [
    {
     "name": "stdout",
     "output_type": "stream",
     "text": [
      "[[1, 1, 'yes'], [1, 1, 'yes'], [1, 0, 'no'], [0, 1, 'no'], [0, 1, 'no']]\n",
      "['no surfacing', 'flippers']\n"
     ]
    }
   ],
   "source": [
    "def create_data_set():\n",
    "    data_set = [\n",
    "        [1, 1, 'yes'],\n",
    "        [1, 1, 'yes'],\n",
    "        [1, 0, 'no'],\n",
    "        [0, 1, 'no'],\n",
    "        [0, 1, 'no']\n",
    "    ]\n",
    "    labels = ['no surfacing', 'flippers']\n",
    "    return data_set, labels\n",
    "data_set, data_labels = create_data_set()\n",
    "print(data_set)\n",
    "print(data_labels)"
   ]
  },
  {
   "cell_type": "markdown",
   "metadata": {},
   "source": [
    "###### 计算给定数据集的信息熵"
   ]
  },
  {
   "cell_type": "code",
   "execution_count": 67,
   "metadata": {},
   "outputs": [
    {
     "data": {
      "text/plain": [
       "0.9709505944546686"
      ]
     },
     "execution_count": 67,
     "metadata": {},
     "output_type": "execute_result"
    }
   ],
   "source": [
    "from math import log\n",
    "def calc_entropy(data_set):\n",
    "    num_data = len(data_set)\n",
    "    label_counts = {}\n",
    "    for data in data_set:\n",
    "        current_label = data[-1]\n",
    "        if current_label not in label_counts.keys():\n",
    "            label_counts[current_label] = 0\n",
    "        label_counts[current_label] += 1\n",
    "    entropy = 0.0\n",
    "    for key in label_counts:\n",
    "        prob = float(label_counts[key])/num_data\n",
    "        entropy -= prob * log(prob, 2)\n",
    "    return entropy\n",
    "entropy = calc_entropy(data_set)\n",
    "entropy"
   ]
  },
  {
   "cell_type": "markdown",
   "metadata": {},
   "source": [
    "##### 创建划分数据集方法\n"
   ]
  },
  {
   "cell_type": "code",
   "execution_count": 68,
   "metadata": {},
   "outputs": [
    {
     "name": "stdout",
     "output_type": "stream",
     "text": [
      "data_set： [[1, 1, 'yes'], [1, 1, 'yes'], [1, 0, 'no'], [0, 1, 'no'], [0, 1, 'no']]\n",
      "re_data： [[1, 'yes'], [1, 'yes'], [0, 'no']]\n"
     ]
    }
   ],
   "source": [
    "def split_data_set(data_set, axis, value):\n",
    "    re_data_set = []\n",
    "    for data in data_set:\n",
    "        if data[axis] == value:\n",
    "            re_data = data[:axis]         # 将data列表中该特征之前的特征放到re_data列表中\n",
    "            re_data.extend(data[axis+1:]) # 将data列表中该特征之后的特征也放到re_data中，说白了就是剔除了特征值为value的特征\n",
    "            re_data_set.append(re_data)\n",
    "    return re_data_set\n",
    "# 测试\n",
    "print(\"data_set：\", data_set) # 再次打印上文的data_set\n",
    "re_data = split_data_set(data_set, 0, 1)\n",
    "print(\"re_data：\", re_data)"
   ]
  },
  {
   "cell_type": "markdown",
   "metadata": {},
   "source": [
    "从上述结果可以看出，我们在data_set数据集中将每个样本里符合第1个（即索引为0的）特征的值为1的样本提取出来了。\n",
    "\n",
    "##### 创建选择最优特征方法"
   ]
  },
  {
   "cell_type": "code",
   "execution_count": 94,
   "metadata": {
    "collapsed": true
   },
   "outputs": [],
   "source": [
    "def choose_best_feature(data_set):\n",
    "    num_feature = len(data_set[0]) - 1  # 这里减一是因为每个样本中最后一个值是标签，而不是特征值\n",
    "    num_data = len(data_set)\n",
    "    data_set_entropy = calc_entropy(data_set)\n",
    "    gain = 0.0\n",
    "    best_feature = -1\n",
    "    for i in range(num_feature):  \n",
    "        feature_list = [example[i] for example in data_set]\n",
    "        unique_values = set(feature_list)\n",
    "        new_entropy = 0.0\n",
    "        for value in unique_values:\n",
    "            re_data_set = split_data_set(data_set, i, value)\n",
    "            prob = len(re_data_set)/float(num_data)\n",
    "            new_entropy += prob * calc_entropy(re_data_set)\n",
    "        new_gain = data_set_entropy - new_entropy\n",
    "        if new_gain > gain:\n",
    "            gain = new_gain\n",
    "            best_feature = i\n",
    "    return best_feature"
   ]
  },
  {
   "cell_type": "markdown",
   "metadata": {},
   "source": [
    "继续使用上文的data_set进行数据测试："
   ]
  },
  {
   "cell_type": "code",
   "execution_count": 70,
   "metadata": {},
   "outputs": [
    {
     "data": {
      "text/plain": [
       "[[1, 1, 'yes'], [1, 1, 'yes'], [1, 0, 'no'], [0, 1, 'no'], [0, 1, 'no']]"
      ]
     },
     "execution_count": 70,
     "metadata": {},
     "output_type": "execute_result"
    }
   ],
   "source": [
    "data_set"
   ]
  },
  {
   "cell_type": "code",
   "execution_count": 71,
   "metadata": {},
   "outputs": [
    {
     "data": {
      "text/plain": [
       "0"
      ]
     },
     "execution_count": 71,
     "metadata": {},
     "output_type": "execute_result"
    }
   ],
   "source": [
    "best_feature = choose_best_feature(data_set)\n",
    "best_feature"
   ]
  },
  {
   "cell_type": "markdown",
   "metadata": {},
   "source": [
    "##### 递归创建决策树\n",
    "决策树递归结束的条件为下列两种情况：\n",
    "1. 遍历完所有划分数据集的特征\n",
    "2. 每个分支下的所有样本实例都具有相同的分类\n",
    "\n",
    "注：对于第一点，当遍历完所有特征后，如果发现子数据集中仍有多种标签分类，则采用少数服从多数的原则将该子集进行分类。下面的majority_class方法表达的就是这个意思。"
   ]
  },
  {
   "cell_type": "code",
   "execution_count": 72,
   "metadata": {
    "collapsed": true
   },
   "outputs": [],
   "source": [
    "import operator\n",
    "def majority_class(class_list):\n",
    "    class_count = {}\n",
    "    for cla in class_list:\n",
    "        if cla not in class_count.keys():\n",
    "            class_count[cla] = 0\n",
    "        class_count[cla] += 1\n",
    "    sorted_class_count = sorted(class_count.items(), key=operator.items(1), reverse=True)\n",
    "    return sorted_class_count[0][0]"
   ]
  },
  {
   "cell_type": "markdown",
   "metadata": {},
   "source": [
    "解决完递归结束条件后，开始正式创建决策树："
   ]
  },
  {
   "cell_type": "code",
   "execution_count": 73,
   "metadata": {
    "collapsed": true
   },
   "outputs": [],
   "source": [
    "def create_tree(data_set, data_labels):\n",
    "    labels = data_labels[:] # 防止改变原data_labels列表\n",
    "    class_list = [example[-1] for example in data_set]\n",
    "    # 符合递归结束条件2\n",
    "    if class_list.count(class_list[0]) == len(class_list):\n",
    "        return class_list[0]\n",
    "    # 符合递归结束条件1\n",
    "    if len(data_set[0]) == 1:\n",
    "        return majority_class(class_list)\n",
    "    # 计算并获取最优特征 \n",
    "    best_feature = choose_best_feature(data_set)\n",
    "    best_feature_label = labels[best_feature]\n",
    "    decision_tree = {best_feature_label: {}}\n",
    "    del(labels[best_feature])\n",
    "    feature_values = [example[best_feature] for example in data_set]\n",
    "    unique_values = set(feature_values)\n",
    "    for value in unique_values:\n",
    "        sub_labels = labels[:]\n",
    "        decision_tree[best_feature_label][value] = create_tree(split_data_set(data_set, best_feature, value), sub_labels)\n",
    "    return decision_tree\n",
    "    "
   ]
  },
  {
   "cell_type": "markdown",
   "metadata": {},
   "source": [
    "上述代码首先创建class_list列表，其中包含了数据集的所有分类标签。通过对class_list列表的进行两步判断，看是否符合两个递归结束条件中的任意一个。接下来开始创建决策树，先获取最优特征，以及该特征的所有特征值，并将最优特征从特征标签中删除。根据特征值划分子集，对每个子集递归调用create_tree。为了在递归时不改变原data_labels，所以使用新变量labels代替原始列表，sub_labels的道理类似。\n",
    "\n",
    "##### 下面进行测试输出："
   ]
  },
  {
   "cell_type": "code",
   "execution_count": 74,
   "metadata": {},
   "outputs": [
    {
     "data": {
      "text/plain": [
       "([[1, 1, 'yes'], [1, 1, 'yes'], [1, 0, 'no'], [0, 1, 'no'], [0, 1, 'no']],\n",
       " ['no surfacing', 'flippers'])"
      ]
     },
     "execution_count": 74,
     "metadata": {},
     "output_type": "execute_result"
    }
   ],
   "source": [
    "# 测试数据\n",
    "data_set, data_labels"
   ]
  },
  {
   "cell_type": "code",
   "execution_count": 75,
   "metadata": {},
   "outputs": [
    {
     "data": {
      "text/plain": [
       "{'no surfacing': {0: 'no', 1: {'flippers': {0: 'no', 1: 'yes'}}}}"
      ]
     },
     "execution_count": 75,
     "metadata": {},
     "output_type": "execute_result"
    }
   ],
   "source": [
    "# 创建决策树\n",
    "dt = create_tree(data_set,data_labels)\n",
    "dt"
   ]
  },
  {
   "cell_type": "markdown",
   "metadata": {},
   "source": [
    "##### 测试算法：使用决策树进行分类"
   ]
  },
  {
   "cell_type": "code",
   "execution_count": 76,
   "metadata": {},
   "outputs": [
    {
     "name": "stdout",
     "output_type": "stream",
     "text": [
      "class_label1： no\n",
      "class_label2： yes\n"
     ]
    }
   ],
   "source": [
    "def classify(tree, feature_labels, test_data):\n",
    "    first_str = list(tree.keys())[0]\n",
    "    second_dic = tree[first_str]\n",
    "    feat_index = feature_labels.index(first_str)\n",
    "    for key in second_dic.keys():\n",
    "        if test_data[feat_index] == key:\n",
    "            if type(second_dic[key]).__name__ == 'dict':\n",
    "                class_label = classify(second_dic[key], feature_labels, test_data)\n",
    "            else:\n",
    "                class_label = second_dic[key]\n",
    "    return class_label\n",
    "# 分类测试\n",
    "class_label1 = classify(dt, data_labels, [1, 0])\n",
    "class_label2 = classify(dt, data_labels, [1, 1])\n",
    "print(\"class_label1：\", class_label1)\n",
    "print(\"class_label2：\", class_label2)"
   ]
  },
  {
   "cell_type": "markdown",
   "metadata": {},
   "source": [
    "##### 用决策树预测隐形眼镜类型\n",
    "*这个例子是大部分人在学习决策树都会用到*"
   ]
  },
  {
   "cell_type": "code",
   "execution_count": 97,
   "metadata": {},
   "outputs": [
    {
     "data": {
      "text/plain": [
       "[['young', 'myope', 'no', 'reduced', 'no lenses'],\n",
       " ['young', 'myope', 'no', 'normal', 'soft'],\n",
       " ['young', 'myope', 'yes', 'reduced', 'no lenses'],\n",
       " ['young', 'myope', 'yes', 'normal', 'hard'],\n",
       " ['young', 'hyper', 'no', 'reduced', 'no lenses'],\n",
       " ['young', 'hyper', 'no', 'normal', 'soft'],\n",
       " ['young', 'hyper', 'yes', 'reduced', 'no lenses'],\n",
       " ['young', 'hyper', 'yes', 'normal', 'hard'],\n",
       " ['pre', 'myope', 'no', 'reduced', 'no lenses'],\n",
       " ['pre', 'myope', 'no', 'normal', 'soft'],\n",
       " ['pre', 'myope', 'yes', 'reduced', 'no lenses'],\n",
       " ['pre', 'myope', 'yes', 'normal', 'hard'],\n",
       " ['pre', 'hyper', 'no', 'reduced', 'no lenses'],\n",
       " ['pre', 'hyper', 'no', 'normal', 'soft'],\n",
       " ['pre', 'hyper', 'yes', 'reduced', 'no lenses'],\n",
       " ['pre', 'hyper', 'yes', 'normal', 'no lenses'],\n",
       " ['presbyopic', 'myope', 'no', 'reduced', 'no lenses'],\n",
       " ['presbyopic', 'myope', 'no', 'normal', 'no lenses'],\n",
       " ['presbyopic', 'myope', 'yes', 'reduced', 'no lenses'],\n",
       " ['presbyopic', 'myope', 'yes', 'normal', 'hard'],\n",
       " ['presbyopic', 'hyper', 'no', 'reduced', 'no lenses'],\n",
       " ['presbyopic', 'hyper', 'no', 'normal', 'soft'],\n",
       " ['presbyopic', 'hyper', 'yes', 'reduced', 'no lenses'],\n",
       " ['presbyopic', 'hyper', 'yes', 'normal', 'no lenses']]"
      ]
     },
     "execution_count": 97,
     "metadata": {},
     "output_type": "execute_result"
    }
   ],
   "source": [
    "with open('lenses.txt', 'r') as f:\n",
    "    lines = f.read().split('\\n')\n",
    "    lenses = [line.split('\\t') for line in lines]\n",
    "lenses # 查看数据"
   ]
  },
  {
   "cell_type": "code",
   "execution_count": 98,
   "metadata": {},
   "outputs": [
    {
     "data": {
      "text/plain": [
       "{'tearRate': {'normal': {'astigmatic': {'no': {'age': {'pre': 'soft',\n",
       "      'presbyopic': {'prescript': {'hyper': 'soft', 'myope': 'no lenses'}},\n",
       "      'young': 'soft'}},\n",
       "    'yes': {'prescript': {'hyper': {'age': {'pre': 'no lenses',\n",
       "        'presbyopic': 'no lenses',\n",
       "        'young': 'hard'}},\n",
       "      'myope': 'hard'}}}},\n",
       "  'reduced': 'no lenses'}}"
      ]
     },
     "execution_count": 98,
     "metadata": {},
     "output_type": "execute_result"
    }
   ],
   "source": [
    "lenses_labels = ['age', 'prescript', 'astigmatic', 'tearRate'] \n",
    "lenses_tree = create_tree(lenses, lenses_labels)\n",
    "lenses_tree"
   ]
  },
  {
   "cell_type": "markdown",
   "metadata": {},
   "source": [
    "##### 使用Matplotlib注解绘制树形图\n",
    "正如上面的结果所示，采用文本的当时输出一个决策树时我们很难分辨出该树的枝叶，所以接下来我们将采用注解的形式绘制出树形图。"
   ]
  },
  {
   "cell_type": "code",
   "execution_count": 99,
   "metadata": {},
   "outputs": [
    {
     "data": {
      "image/png": "[encoded data removed]",
      "text/plain": [
       "<matplotlib.figure.Figure at 0x240103f5518>"
      ]
     },
     "metadata": {},
     "output_type": "display_data"
    }
   ],
   "source": [
    "import matplotlib.pyplot as plt \n",
    "plt.rcParams['font.sans-serif'] = ['SimHei']  # 用来正常显示中文标签\n",
    "plt.rcParams['axes.unicode_minus'] = False  # 用来正常显示负号\n",
    "decision_node = dict(boxstyle=\"sawtooth\", fc=\"0.8\")\n",
    "leaf_node = dict(boxstyle=\"round4\", fc=\"0.8\")\n",
    "arrow_args = dict(arrowstyle=\"<-\")\n",
    "\n",
    "def plot_node(node_txt, center_pt, parent_pt, node_type):\n",
    "    create_plot.axl.annotate(node_txt, xy=parent_pt, xycoords='axes fraction', xytext=center_pt, textcoords='axes fraction', \n",
    "                             va='center', ha='center', bbox=node_type, arrowprops=arrow_args)\n",
    "# 先来一个简单的画图测试\n",
    "def create_plot():\n",
    "    fig = plt.figure(1, facecolor='white')\n",
    "    fig.clf()\n",
    "    create_plot.axl = plt.subplot(111, frameon=False)\n",
    "    plot_node('决策节点', (0.5, 0.1), (0.1, 0.5), decision_node)\n",
    "    plot_node('叶子节点', (0.8, 0.1), (0.3, 0.8),leaf_node)\n",
    "    plt.show()\n",
    "create_plot()"
   ]
  },
  {
   "cell_type": "code",
   "execution_count": null,
   "metadata": {
    "collapsed": true
   },
   "outputs": [],
   "source": []
  }
 ],
 "metadata": {
  "kernelspec": {
   "display_name": "Python 3",
   "language": "python",
   "name": "python3"
  },
  "language_info": {
   "codemirror_mode": {
    "name": "ipython",
    "version": 3
   },
   "file_extension": ".py",
   "mimetype": "text/x-python",
   "name": "python",
   "nbconvert_exporter": "python",
   "pygments_lexer": "ipython3",
   "version": "3.6.2"
  }
 },
 "nbformat": 4,
 "nbformat_minor": 2
}
