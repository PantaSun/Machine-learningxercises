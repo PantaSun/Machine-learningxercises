{
 "cells": [
  {
   "cell_type": "markdown",
   "metadata": {},
   "source": [
    "## 感知机（Perceptron）\n"
   ]
  },
  {
   "cell_type": "markdown",
   "metadata": {},
   "source": [
    "\n"
   ]
  },
  {
   "cell_type": "code",
   "execution_count": 79,
   "metadata": {
    "collapsed": false
   },
   "outputs": [],
   "source": [
    "# 感知机学习算法--原始形式\n",
    "import numpy as np\n",
    "# 创建数据集\n",
    "data = [[3, 3, 1], [4, 3, 1], [1, 1, -1]]\n"
   ]
  },
  {
   "cell_type": "code",
   "execution_count": 80,
   "metadata": {
    "collapsed": true
   },
   "outputs": [],
   "source": [
    "def train_perceptron(data):\n",
    "    data_l = len(data)\n",
    "    \n",
    "    flag = 1\n",
    "    w = [0, 0]\n",
    "    b = 0\n",
    "    yita = 1\n",
    "    while flag:\n",
    "        flag = 0\n",
    "        for x in data:\n",
    "            y = x[-1]\n",
    "            mat_x = np.transpose(np.matrix(x[:-1]))\n",
    "            mat_w = np.matrix(w)\n",
    "            if y *(mat_w * mat_x + b) <= 0:\n",
    "                flag = 1;\n",
    "                w = w + yita * y * np.transpose(mat_x)\n",
    "                b = b + yita * y\n",
    "                break;\n",
    "    return b, np.matrix.tolist(mat_w)\n",
    "                \n",
    "            "
   ]
  },
  {
   "cell_type": "code",
   "execution_count": 81,
   "metadata": {
    "collapsed": false
   },
   "outputs": [],
   "source": [
    "b, w = train_perceptron(data)"
   ]
  },
  {
   "cell_type": "code",
   "execution_count": 82,
   "metadata": {
    "collapsed": false
   },
   "outputs": [
    {
     "data": {
      "text/plain": [
       "-3"
      ]
     },
     "execution_count": 82,
     "metadata": {},
     "output_type": "execute_result"
    }
   ],
   "source": [
    "b"
   ]
  },
  {
   "cell_type": "code",
   "execution_count": 85,
   "metadata": {
    "collapsed": false
   },
   "outputs": [
    {
     "data": {
      "text/plain": [
       "[1, 1]"
      ]
     },
     "execution_count": 85,
     "metadata": {},
     "output_type": "execute_result"
    }
   ],
   "source": [
    "w[0]"
   ]
  },
  {
   "cell_type": "code",
   "execution_count": 86,
   "metadata": {
    "collapsed": false
   },
   "outputs": [
    {
     "name": "stdout",
     "output_type": "stream",
     "text": [
      "y = sign(1*x1 + 1*x2 + (-3))\n"
     ]
    }
   ],
   "source": [
    "print('y = sign('+ str(w[0][0]) + '*x1 + ' + str(w[0][1]) + '*x2 + (' + str(b) + '))')"
   ]
  },
  {
   "cell_type": "code",
   "execution_count": null,
   "metadata": {
    "collapsed": true
   },
   "outputs": [],
   "source": []
  },
  {
   "cell_type": "code",
   "execution_count": null,
   "metadata": {
    "collapsed": true
   },
   "outputs": [],
   "source": []
  }
 ],
 "metadata": {
  "kernelspec": {
   "display_name": "Python 3",
   "language": "python",
   "name": "python3"
  },
  "language_info": {
   "codemirror_mode": {
    "name": "ipython",
    "version": 3
   },
   "file_extension": ".py",
   "mimetype": "text/x-python",
   "name": "python",
   "nbconvert_exporter": "python",
   "pygments_lexer": "ipython3",
   "version": "3.5.4rc1"
  }
 },
 "nbformat": 4,
 "nbformat_minor": 2
}
