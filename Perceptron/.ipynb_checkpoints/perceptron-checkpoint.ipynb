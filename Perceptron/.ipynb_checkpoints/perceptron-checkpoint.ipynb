{
 "cells": [
  {
   "cell_type": "markdown",
   "metadata": {},
   "source": [
    "## 感知机（Perceptron）\n"
   ]
  },
  {
   "cell_type": "markdown",
   "metadata": {},
   "source": [
    "\n"
   ]
  },
  {
   "cell_type": "code",
   "execution_count": 14,
   "metadata": {
    "collapsed": false
   },
   "outputs": [
    {
     "data": {
      "text/plain": [
       "3"
      ]
     },
     "execution_count": 14,
     "metadata": {},
     "output_type": "execute_result"
    }
   ],
   "source": [
    "# 感知机学习算法\n",
    "import numpy as np\n",
    "# 创建数据集\n",
    "data = [[3, 3, 1], [4, 3, 1], [1, 1, -1]]\n",
    "data[1][:-1], data[1][-1]\n",
    "len(data[0])\n"
   ]
  },
  {
   "cell_type": "markdown",
   "metadata": {},
   "source": [
    "### 原始形式的感知机学习算法"
   ]
  },
  {
   "cell_type": "code",
   "execution_count": 15,
   "metadata": {
    "collapsed": true
   },
   "outputs": [],
   "source": [
    "# 原始形式感知机学习算法\n",
    "def train_original_perceptron(data):\n",
    "    data_l = len(data)\n",
    "    x_l = len(data[0])-1\n",
    "    flag = 1\n",
    "    w = np.zeros(x_l)\n",
    "    b = 0\n",
    "    yita = 1\n",
    "    while flag:\n",
    "        flag = 0\n",
    "        for x in data:\n",
    "            y = x[-1]\n",
    "            mat_x = np.transpose(np.matrix(x[:-1]))\n",
    "            mat_w = np.matrix(w)\n",
    "            if y *(mat_w * mat_x + b) <= 0:\n",
    "                flag = 1;\n",
    "                w = w + yita * y * np.transpose(mat_x)\n",
    "                b = b + yita * y\n",
    "                break;\n",
    "    return b, np.matrix.tolist(mat_w)[0]\n",
    "                \n",
    "            "
   ]
  },
  {
   "cell_type": "code",
   "execution_count": 16,
   "metadata": {
    "collapsed": false
   },
   "outputs": [],
   "source": [
    "b, w = train_original_perceptron(data)"
   ]
  },
  {
   "cell_type": "code",
   "execution_count": 17,
   "metadata": {
    "collapsed": false
   },
   "outputs": [
    {
     "data": {
      "text/plain": [
       "-3"
      ]
     },
     "execution_count": 17,
     "metadata": {},
     "output_type": "execute_result"
    }
   ],
   "source": [
    "b"
   ]
  },
  {
   "cell_type": "code",
   "execution_count": 18,
   "metadata": {
    "collapsed": false
   },
   "outputs": [
    {
     "data": {
      "text/plain": [
       "[1.0, 1.0]"
      ]
     },
     "execution_count": 18,
     "metadata": {},
     "output_type": "execute_result"
    }
   ],
   "source": [
    "w"
   ]
  },
  {
   "cell_type": "code",
   "execution_count": 19,
   "metadata": {
    "collapsed": false
   },
   "outputs": [
    {
     "name": "stdout",
     "output_type": "stream",
     "text": [
      "y = sign(1.0*x1 + 1.0*x2 + (-3))\n"
     ]
    }
   ],
   "source": [
    "print('y = sign('+ str(w[0]) + '*x1 + ' + str(w[1]) + '*x2 + (' + str(b) + '))')"
   ]
  },
  {
   "cell_type": "markdown",
   "metadata": {},
   "source": [
    "### 对偶形式的感知机学习算法"
   ]
  },
  {
   "cell_type": "code",
   "execution_count": 24,
   "metadata": {
    "collapsed": true
   },
   "outputs": [],
   "source": [
    "# 对偶形式感知机学习算法\n",
    "def train_duality_perceptron(data):\n",
    "    data_l = len(data)\n",
    "    flag = 1.0\n",
    "    yita = 1.0\n",
    "    alpha = np.zeros(data_l)\n",
    "    b = 0.0\n",
    "    w = np.matrix([0.0, 0.0])\n",
    "    while flag:\n",
    "        flag = 0\n",
    "        for i in range(data_l):\n",
    "            mat_xi = np.matrix(data[i][:-1])\n",
    "            yi = data[i][-1]\n",
    "            sum = 0.0\n",
    "            for j in range(data_l):\n",
    "                mat_xj = np.matrix(data[j][:-1])\n",
    "                yj = data[j][-1]\n",
    "                sum += alpha[j] * yj * mat_xj * np.transpose(mat_xi)\n",
    "            if yi * (sum + b) <= 0:\n",
    "                alpha[i] += yita\n",
    "                b += yita * yi\n",
    "                flag = 1\n",
    "                break\n",
    "    for k in range(data_l):\n",
    "        w += alpha[k] * data[k][-1] * np.matrix(data[k][:-1])\n",
    "    return b, np.matrix.tolist(w)[0]        \n",
    "        "
   ]
  },
  {
   "cell_type": "code",
   "execution_count": 25,
   "metadata": {
    "collapsed": false
   },
   "outputs": [],
   "source": [
    "b2, w2 = train_duality_perceptron(data)"
   ]
  },
  {
   "cell_type": "code",
   "execution_count": 26,
   "metadata": {
    "collapsed": false
   },
   "outputs": [
    {
     "data": {
      "text/plain": [
       "-3.0"
      ]
     },
     "execution_count": 26,
     "metadata": {},
     "output_type": "execute_result"
    }
   ],
   "source": [
    "b2\n"
   ]
  },
  {
   "cell_type": "code",
   "execution_count": 27,
   "metadata": {
    "collapsed": false
   },
   "outputs": [
    {
     "data": {
      "text/plain": [
       "[1.0, 1.0]"
      ]
     },
     "execution_count": 27,
     "metadata": {},
     "output_type": "execute_result"
    }
   ],
   "source": [
    "w2"
   ]
  },
  {
   "cell_type": "code",
   "execution_count": 86,
   "metadata": {
    "collapsed": false
   },
   "outputs": [
    {
     "name": "stdout",
     "output_type": "stream",
     "text": [
      "y = sign(1*x1 + 1*x2 + (-3))\n"
     ]
    }
   ],
   "source": [
    "print('y = sign('+ str(w2[0]) + '*x1 + ' + str(w2[1]) + '*x2 + (' + str(b2) + '))')"
   ]
  },
  {
   "cell_type": "markdown",
   "metadata": {},
   "source": [
    "### 算法应用\n",
    "#### 验证‘或’运算"
   ]
  },
  {
   "cell_type": "code",
   "execution_count": 53,
   "metadata": {
    "collapsed": false
   },
   "outputs": [],
   "source": [
    "# 读取数据\n",
    "with open('train_0.txt', 'r') as f:\n",
    "    data = f.read().strip()\n",
    "    data_list = data.split('\\n')\n",
    "    clear_data = []\n",
    "    y = []\n",
    "    for d in data_list:\n",
    "        d = d.split()\n",
    "        xi = []\n",
    "        xi.append(float(d[0]))\n",
    "        xi.append(float(d[1]))\n",
    "        \n",
    "        if int(d[2]) == 1:\n",
    "            y = 1.0\n",
    "        else:\n",
    "            y = -1.0\n",
    "        xi.append(y)\n",
    "        clear_data.append(xi)\n",
    "        "
   ]
  },
  {
   "cell_type": "code",
   "execution_count": 54,
   "metadata": {
    "collapsed": false
   },
   "outputs": [
    {
     "data": {
      "text/plain": [
       "[[1.0, 0.0, 1.0],\n",
       " [0.0, 0.0, -1.0],\n",
       " [1.0, 0.0, 1.0],\n",
       " [1.0, 1.0, 1.0],\n",
       " [1.0, 1.0, 1.0],\n",
       " [0.0, 1.0, 1.0],\n",
       " [1.0, 0.0, 1.0],\n",
       " [0.0, 0.0, -1.0],\n",
       " [1.0, 0.0, 1.0],\n",
       " [0.0, 0.0, -1.0],\n",
       " [1.0, 0.0, 1.0],\n",
       " [1.0, 1.0, 1.0],\n",
       " [1.0, 1.0, 1.0],\n",
       " [0.0, 1.0, 1.0],\n",
       " [1.0, 0.0, 1.0],\n",
       " [0.0, 0.0, -1.0],\n",
       " [1.0, 0.0, 1.0],\n",
       " [0.0, 0.0, -1.0],\n",
       " [1.0, 0.0, 1.0],\n",
       " [1.0, 1.0, 1.0],\n",
       " [1.0, 1.0, 1.0],\n",
       " [0.0, 1.0, 1.0],\n",
       " [1.0, 0.0, 1.0],\n",
       " [0.0, 0.0, -1.0],\n",
       " [1.0, 0.0, 1.0],\n",
       " [0.0, 0.0, -1.0],\n",
       " [1.0, 0.0, 1.0],\n",
       " [1.0, 1.0, 1.0],\n",
       " [1.0, 1.0, 1.0],\n",
       " [0.0, 1.0, 1.0],\n",
       " [1.0, 0.0, 1.0],\n",
       " [0.0, 0.0, -1.0],\n",
       " [1.0, 0.0, 1.0],\n",
       " [0.0, 0.0, -1.0],\n",
       " [1.0, 0.0, 1.0],\n",
       " [1.0, 1.0, 1.0],\n",
       " [1.0, 1.0, 1.0],\n",
       " [0.0, 1.0, 1.0],\n",
       " [1.0, 0.0, 1.0],\n",
       " [0.0, 0.0, -1.0],\n",
       " [1.0, 0.0, 1.0],\n",
       " [0.0, 0.0, -1.0],\n",
       " [1.0, 0.0, 1.0],\n",
       " [1.0, 1.0, 1.0],\n",
       " [1.0, 1.0, 1.0],\n",
       " [0.0, 1.0, 1.0],\n",
       " [1.0, 0.0, 1.0],\n",
       " [0.0, 0.0, -1.0],\n",
       " [1.0, 0.0, 1.0],\n",
       " [0.0, 0.0, -1.0],\n",
       " [1.0, 0.0, 1.0],\n",
       " [1.0, 1.0, 1.0],\n",
       " [1.0, 1.0, 1.0],\n",
       " [0.0, 1.0, 1.0],\n",
       " [1.0, 0.0, 1.0],\n",
       " [0.0, 0.0, -1.0],\n",
       " [1.0, 0.0, 1.0],\n",
       " [0.0, 0.0, -1.0],\n",
       " [1.0, 0.0, 1.0],\n",
       " [1.0, 1.0, 1.0],\n",
       " [1.0, 1.0, 1.0],\n",
       " [0.0, 1.0, 1.0],\n",
       " [1.0, 0.0, 1.0],\n",
       " [0.0, 0.0, -1.0],\n",
       " [1.0, 0.0, 1.0],\n",
       " [0.0, 0.0, -1.0],\n",
       " [1.0, 0.0, 1.0],\n",
       " [1.0, 1.0, 1.0],\n",
       " [1.0, 1.0, 1.0],\n",
       " [0.0, 1.0, 1.0],\n",
       " [1.0, 0.0, 1.0],\n",
       " [0.0, 0.0, -1.0],\n",
       " [1.0, 0.0, 1.0],\n",
       " [0.0, 0.0, -1.0],\n",
       " [1.0, 0.0, 1.0],\n",
       " [1.0, 1.0, 1.0],\n",
       " [1.0, 1.0, 1.0],\n",
       " [0.0, 1.0, 1.0],\n",
       " [1.0, 0.0, 1.0],\n",
       " [0.0, 0.0, -1.0],\n",
       " [1.0, 0.0, 1.0],\n",
       " [0.0, 0.0, -1.0],\n",
       " [1.0, 0.0, 1.0],\n",
       " [1.0, 1.0, 1.0],\n",
       " [1.0, 1.0, 1.0],\n",
       " [0.0, 1.0, 1.0],\n",
       " [1.0, 0.0, 1.0],\n",
       " [0.0, 0.0, -1.0],\n",
       " [1.0, 0.0, 1.0],\n",
       " [0.0, 0.0, -1.0],\n",
       " [1.0, 0.0, 1.0],\n",
       " [1.0, 1.0, 1.0],\n",
       " [1.0, 1.0, 1.0],\n",
       " [0.0, 1.0, 1.0],\n",
       " [1.0, 0.0, 1.0],\n",
       " [0.0, 0.0, -1.0],\n",
       " [1.0, 0.0, 1.0],\n",
       " [0.0, 0.0, -1.0],\n",
       " [1.0, 0.0, 1.0],\n",
       " [1.0, 1.0, 1.0],\n",
       " [1.0, 1.0, 1.0],\n",
       " [0.0, 1.0, 1.0],\n",
       " [1.0, 0.0, 1.0],\n",
       " [0.0, 0.0, -1.0],\n",
       " [1.0, 0.0, 1.0],\n",
       " [0.0, 0.0, -1.0],\n",
       " [1.0, 0.0, 1.0],\n",
       " [1.0, 1.0, 1.0],\n",
       " [1.0, 1.0, 1.0],\n",
       " [0.0, 1.0, 1.0],\n",
       " [1.0, 0.0, 1.0],\n",
       " [0.0, 0.0, -1.0],\n",
       " [1.0, 0.0, 1.0],\n",
       " [0.0, 0.0, -1.0],\n",
       " [1.0, 0.0, 1.0],\n",
       " [1.0, 1.0, 1.0],\n",
       " [1.0, 1.0, 1.0],\n",
       " [0.0, 1.0, 1.0],\n",
       " [1.0, 0.0, 1.0],\n",
       " [0.0, 0.0, -1.0],\n",
       " [1.0, 0.0, 1.0],\n",
       " [0.0, 0.0, -1.0],\n",
       " [1.0, 0.0, 1.0],\n",
       " [1.0, 1.0, 1.0],\n",
       " [1.0, 1.0, 1.0],\n",
       " [0.0, 1.0, 1.0],\n",
       " [1.0, 0.0, 1.0],\n",
       " [0.0, 0.0, -1.0],\n",
       " [1.0, 0.0, 1.0],\n",
       " [0.0, 0.0, -1.0],\n",
       " [1.0, 0.0, 1.0],\n",
       " [1.0, 1.0, 1.0],\n",
       " [1.0, 1.0, 1.0],\n",
       " [0.0, 1.0, 1.0],\n",
       " [1.0, 0.0, 1.0],\n",
       " [0.0, 0.0, -1.0],\n",
       " [1.0, 0.0, 1.0],\n",
       " [0.0, 0.0, -1.0],\n",
       " [1.0, 0.0, 1.0],\n",
       " [1.0, 1.0, 1.0],\n",
       " [1.0, 1.0, 1.0],\n",
       " [0.0, 1.0, 1.0],\n",
       " [1.0, 0.0, 1.0],\n",
       " [0.0, 0.0, -1.0],\n",
       " [1.0, 0.0, 1.0],\n",
       " [0.0, 0.0, -1.0],\n",
       " [1.0, 0.0, 1.0],\n",
       " [1.0, 1.0, 1.0],\n",
       " [1.0, 1.0, 1.0],\n",
       " [0.0, 1.0, 1.0],\n",
       " [1.0, 0.0, 1.0],\n",
       " [0.0, 0.0, -1.0],\n",
       " [1.0, 0.0, 1.0],\n",
       " [0.0, 0.0, -1.0],\n",
       " [1.0, 0.0, 1.0],\n",
       " [1.0, 1.0, 1.0],\n",
       " [1.0, 1.0, 1.0],\n",
       " [0.0, 1.0, 1.0],\n",
       " [1.0, 0.0, 1.0],\n",
       " [0.0, 0.0, -1.0],\n",
       " [1.0, 0.0, 1.0],\n",
       " [0.0, 0.0, -1.0],\n",
       " [1.0, 0.0, 1.0],\n",
       " [1.0, 1.0, 1.0],\n",
       " [1.0, 1.0, 1.0],\n",
       " [0.0, 1.0, 1.0],\n",
       " [1.0, 0.0, 1.0],\n",
       " [0.0, 0.0, -1.0],\n",
       " [1.0, 0.0, 1.0],\n",
       " [0.0, 0.0, -1.0],\n",
       " [1.0, 0.0, 1.0],\n",
       " [1.0, 1.0, 1.0],\n",
       " [1.0, 1.0, 1.0],\n",
       " [0.0, 1.0, 1.0],\n",
       " [1.0, 0.0, 1.0],\n",
       " [0.0, 0.0, -1.0],\n",
       " [1.0, 0.0, 1.0],\n",
       " [0.0, 0.0, -1.0],\n",
       " [1.0, 0.0, 1.0],\n",
       " [1.0, 1.0, 1.0],\n",
       " [1.0, 1.0, 1.0],\n",
       " [0.0, 1.0, 1.0],\n",
       " [1.0, 0.0, 1.0],\n",
       " [0.0, 0.0, -1.0],\n",
       " [1.0, 0.0, 1.0],\n",
       " [0.0, 0.0, -1.0],\n",
       " [1.0, 0.0, 1.0],\n",
       " [1.0, 1.0, 1.0],\n",
       " [1.0, 1.0, 1.0],\n",
       " [0.0, 1.0, 1.0],\n",
       " [1.0, 0.0, 1.0],\n",
       " [0.0, 0.0, -1.0]]"
      ]
     },
     "execution_count": 54,
     "metadata": {},
     "output_type": "execute_result"
    }
   ],
   "source": [
    "clear_data"
   ]
  },
  {
   "cell_type": "code",
   "execution_count": 55,
   "metadata": {
    "collapsed": false
   },
   "outputs": [],
   "source": [
    "b3, w3 = train_original_perceptron(clear_data)"
   ]
  },
  {
   "cell_type": "code",
   "execution_count": 56,
   "metadata": {
    "collapsed": false
   },
   "outputs": [
    {
     "data": {
      "text/plain": [
       "-1.0"
      ]
     },
     "execution_count": 56,
     "metadata": {},
     "output_type": "execute_result"
    }
   ],
   "source": [
    "b3"
   ]
  },
  {
   "cell_type": "code",
   "execution_count": 57,
   "metadata": {
    "collapsed": false
   },
   "outputs": [
    {
     "data": {
      "text/plain": [
       "[2.0, 2.0]"
      ]
     },
     "execution_count": 57,
     "metadata": {},
     "output_type": "execute_result"
    }
   ],
   "source": [
    "w3"
   ]
  },
  {
   "cell_type": "code",
   "execution_count": 58,
   "metadata": {
    "collapsed": false
   },
   "outputs": [
    {
     "name": "stdout",
     "output_type": "stream",
     "text": [
      "y = sign(2.0*x1 + 2.0*x2 + (-1.0))\n"
     ]
    }
   ],
   "source": [
    "print('y = sign('+ str(w3[0]) + '*x1 + ' + str(w3[1]) + '*x2 + (' + str(b3) + '))')"
   ]
  },
  {
   "cell_type": "code",
   "execution_count": null,
   "metadata": {
    "collapsed": true
   },
   "outputs": [],
   "source": []
  }
 ],
 "metadata": {
  "kernelspec": {
   "display_name": "Python 3",
   "language": "python",
   "name": "python3"
  },
  "language_info": {
   "codemirror_mode": {
    "name": "ipython",
    "version": 3
   },
   "file_extension": ".py",
   "mimetype": "text/x-python",
   "name": "python",
   "nbconvert_exporter": "python",
   "pygments_lexer": "ipython3",
   "version": "3.5.4rc1"
  }
 },
 "nbformat": 4,
 "nbformat_minor": 2
}
